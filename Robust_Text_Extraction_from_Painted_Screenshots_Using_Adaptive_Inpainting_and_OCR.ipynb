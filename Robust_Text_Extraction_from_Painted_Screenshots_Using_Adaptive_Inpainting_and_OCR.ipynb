{
  "nbformat": 4,
  "nbformat_minor": 0,
  "metadata": {
    "colab": {
      "provenance": [],
      "authorship_tag": "ABX9TyP/hfppzHaEAVi3WfFFUc66",
      "include_colab_link": true
    },
    "kernelspec": {
      "name": "python3",
      "display_name": "Python 3"
    },
    "language_info": {
      "name": "python"
    }
  },
  "cells": [
    {
      "cell_type": "markdown",
      "metadata": {
        "id": "view-in-github",
        "colab_type": "text"
      },
      "source": [
        "<a href=\"https://colab.research.google.com/github/mracy/Robust-Text-Extraction-from-Painted-Screenshots-Using-Adaptive-Inpainting-and-OCR/blob/main/Robust_Text_Extraction_from_Painted_Screenshots_Using_Adaptive_Inpainting_and_OCR.ipynb\" target=\"_parent\"><img src=\"https://colab.research.google.com/assets/colab-badge.svg\" alt=\"Open In Colab\"/></a>"
      ]
    },
    {
      "cell_type": "code",
      "execution_count": null,
      "metadata": {
        "colab": {
          "base_uri": "https://localhost:8080/"
        },
        "id": "yIoZcSnLvMpW",
        "outputId": "179f9f97-d93c-4bbb-9421-e668cf4a0ece"
      },
      "outputs": [
        {
          "output_type": "stream",
          "name": "stdout",
          "text": [
            "Requirement already satisfied: pytesseract in /usr/local/lib/python3.10/dist-packages (0.3.10)\n",
            "Requirement already satisfied: packaging>=21.3 in /usr/local/lib/python3.10/dist-packages (from pytesseract) (24.0)\n",
            "Requirement already satisfied: Pillow>=8.0.0 in /usr/local/lib/python3.10/dist-packages (from pytesseract) (9.4.0)\n"
          ]
        }
      ],
      "source": [
        "!pip install pytesseract"
      ]
    },
    {
      "cell_type": "code",
      "source": [
        "!apt install tesseract-ocr\n"
      ],
      "metadata": {
        "colab": {
          "base_uri": "https://localhost:8080/"
        },
        "id": "1qXYNbxwvknX",
        "outputId": "b83c968d-2bb9-4924-a0ef-3ec6c6d833a3"
      },
      "execution_count": null,
      "outputs": [
        {
          "output_type": "stream",
          "name": "stdout",
          "text": [
            "Reading package lists... Done\n",
            "Building dependency tree... Done\n",
            "Reading state information... Done\n",
            "tesseract-ocr is already the newest version (4.1.1-2.1build1).\n",
            "0 upgraded, 0 newly installed, 0 to remove and 45 not upgraded.\n"
          ]
        }
      ]
    },
    {
      "cell_type": "code",
      "source": [
        "!pip install --upgrade opencv-python"
      ],
      "metadata": {
        "colab": {
          "base_uri": "https://localhost:8080/"
        },
        "id": "MFkfaZPCwgJR",
        "outputId": "5bb3814f-5152-4552-d2e4-6a5c93b73d58"
      },
      "execution_count": null,
      "outputs": [
        {
          "output_type": "stream",
          "name": "stdout",
          "text": [
            "Requirement already satisfied: opencv-python in /usr/local/lib/python3.10/dist-packages (4.9.0.80)\n",
            "Requirement already satisfied: numpy>=1.21.2 in /usr/local/lib/python3.10/dist-packages (from opencv-python) (1.25.2)\n"
          ]
        }
      ]
    },
    {
      "cell_type": "code",
      "source": [
        "import cv2\n",
        "import pytesseract\n",
        "import numpy as np\n",
        "from google.colab.patches import cv2_imshow  # Import for image display\n",
        "\n",
        "def read_painted_text(image_path):\n",
        "  \"\"\"\n",
        "  Reads text from a screenshot, handling painted areas using various techniques.\n",
        "\n",
        "  Args:\n",
        "      image_path (str): Path to the screenshot image.\n",
        "\n",
        "  Returns:\n",
        "      str: Extracted text from the screenshot.\n",
        "  \"\"\"\n",
        "\n",
        "  # Load the image\n",
        "  image = cv2.imread(image_path)\n",
        "\n",
        "  # Preprocessing for Noise Reduction (Optional)\n",
        "  # Apply techniques like blurring or bilateral filtering to reduce noise\n",
        "  # that may hinder text recognition, especially before inpainting.\n",
        "  # Uncomment the following lines if needed:\n",
        "  # gray = cv2.cvtColor(image, cv2.COLOR_BGR2GRAY)\n",
        "  # blurred = cv2.bilateralFilter(gray, 9, 75, 75)\n",
        "\n",
        "  # Adaptive Inpainting with Color Thresholding (if applicable)\n",
        "  try:\n",
        "    # Convert to HSV colorspace for better color-based segmentation\n",
        "    hsv = cv2.cvtColor(image, cv2.COLOR_BGR2HSV)\n",
        "    # Define color ranges for painted areas (adjust thresholds as needed)\n",
        "    lower_paint = np.array([0, 100, 100])\n",
        "    upper_paint = np.array([10, 255, 255])\n",
        "    # Create a mask using color thresholding\n",
        "    mask = cv2.inRange(hsv, lower_paint, upper_paint)\n",
        "    # Expand the mask slightly to capture potential edges around painted areas\n",
        "    kernel = np.ones((3, 3), np.uint8)\n",
        "    mask = cv2.dilate(mask, kernel, iterations=1)\n",
        "  except:\n",
        "    # Fallback to manual coordinates if thresholding fails\n",
        "    print(\"Color thresholding failed. Using manual coordinates.\")\n",
        "    painted_area_coordinates = [(100, 200), (300, 400), (500, 600)]  # Replace with actual coordinates\n",
        "    mask = np.zeros(image.shape[:2], dtype=np.uint8)\n",
        "    for (x, y) in painted_area_coordinates:\n",
        "      cv2.circle(mask, (x, y), 10, (255), -1)\n",
        "\n",
        "  # Inpainting\n",
        "  try:\n",
        "    # Attempt inpainting with TELEA flag (OpenCV 4.2.0 or later recommended)\n",
        "    inpaint_mask = cv2.inpaint(image, mask, inpaintRadius=3, flags=cv2.INPAINT_TELEA_GMCU)\n",
        "  except:\n",
        "    print(\"INPAINT_TELEA failed. Using fastNlMeansDenoisingColored\")\n",
        "    # Fallback to alternative inpainting method\n",
        "    inpaint_mask = cv2.fastNlMeansDenoisingColored(image, None, 10, 10, 7, 21)\n",
        "\n",
        "  # Text Recognition with Tesseract Configuration\n",
        "  text = pytesseract.image_to_string(inpaint_mask, config='--psm 6')  # Adjust config as needed\n",
        "\n",
        "  return text\n",
        "\n",
        "# Example usage\n",
        "image_path = '/content/Screenshot 2024-05-04 at 23.51.04.png'  # Replace with your image path\n",
        "extracted_text = read_painted_text(image_path)\n",
        "print(\"Extracted Text:\")\n",
        "print(extracted_text)\n",
        "\n",
        "# Display the inpainted image (optional)\n",
        "# cv2_imshow(inpaint_mask)\n",
        "# cv2.waitKey(0)\n",
        "# cv2.destroyAllWindows()\n"
      ],
      "metadata": {
        "colab": {
          "base_uri": "https://localhost:8080/"
        },
        "id": "J714mC_kviS8",
        "outputId": "5694603c-9f6a-41cc-a938-d125e6e3ec8f"
      },
      "execution_count": null,
      "outputs": [
        {
          "output_type": "stream",
          "name": "stdout",
          "text": [
            "INPAINT_TELEA failed. Using fastNlMeansDenoisingColored\n",
            "Extracted Text:\n",
            "no\n",
            "Veter Mostar v NK Posusje Fri 3 Mey 17:00\n",
            "Zetjeznicar v FK Turtle City Fri 3 Mey ore)\n",
            "ry A\n",
            "or ——\n",
            "\f\n"
          ]
        }
      ]
    }
  ]
}